{
 "cells": [
  {
   "cell_type": "markdown",
   "id": "a9aef772",
   "metadata": {},
   "source": [
    "# Pachete\n"
   ]
  },
  {
   "cell_type": "code",
   "execution_count": null,
   "id": "13a31298",
   "metadata": {},
   "outputs": [
    {
     "ename": "",
     "evalue": "",
     "output_type": "error",
     "traceback": [
      "\u001b[1;31mRunning cells with 'Python 3.13.2' requires the ipykernel package.\n",
      "\u001b[1;31mRun the following command to install 'ipykernel' into the Python environment. \n",
      "\u001b[1;31mCommand: 'c:/Users/Darius/AppData/Local/Microsoft/WindowsApps/python3.13.exe -m pip install ipykernel -U --user --force-reinstall'"
     ]
    }
   ],
   "source": [
    "import pandas as pd\n",
    "import seaborn as sns\n",
    "import numpy as np\n",
    "import matplotlib.pyplot as plt"
   ]
  },
  {
   "cell_type": "code",
   "execution_count": null,
   "id": "834e11ba",
   "metadata": {},
   "outputs": [],
   "source": [
    "df = pd.read_csv('data.csv')\n",
    "df"
   ]
  },
  {
   "cell_type": "code",
   "execution_count": null,
   "id": "39a0e3ba",
   "metadata": {},
   "outputs": [],
   "source": [
    "parental_mapping = {'Low': 0, 'Medium': 1, 'High': 2}\n",
    "\n",
    "df['Parental_Involvement'] = df['Parental_Involvement'].map(parental_mapping)\n",
    "\n",
    "df.to_csv('data.csv', index=False)"
   ]
  },
  {
   "cell_type": "code",
   "execution_count": null,
   "id": "6ae9b0bd",
   "metadata": {},
   "outputs": [],
   "source": [
    "\n",
    "data = {'Parental_Involvement': ['low', 'medium', 'high', 'low', 'high', 'medium']}\n",
    "df = pd.DataFrame(data)\n",
    "\n",
    "# Mapping values\n",
    "mapping = {'low': 0, 'medium': 1, 'high': 2}\n",
    "df['Category_Numeric'] = df['Category'].map(mapping)\n",
    "\n",
    "# Display the transformed DataFrame\n",
    "print(df)\n"
   ]
  }
 ],
 "metadata": {
  "kernelspec": {
   "display_name": "Python 3",
   "language": "python",
   "name": "python3"
  },
  "language_info": {
   "codemirror_mode": {
    "name": "ipython",
    "version": 3
   },
   "file_extension": ".py",
   "mimetype": "text/x-python",
   "name": "python",
   "nbconvert_exporter": "python",
   "pygments_lexer": "ipython3",
   "version": "3.13.2"
  }
 },
 "nbformat": 4,
 "nbformat_minor": 5
}
